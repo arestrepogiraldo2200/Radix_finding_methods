{
 "cells": [
  {
   "cell_type": "markdown",
   "metadata": {},
   "source": [
    "Hallar la raíz de $f(x)=2-x+3\\sin(x)$ mediante el método de la falsa posición."
   ]
  },
  {
   "cell_type": "code",
   "execution_count": 29,
   "metadata": {
    "collapsed": true
   },
   "outputs": [],
   "source": [
    "import numpy\n",
    "import math"
   ]
  },
  {
   "cell_type": "code",
   "execution_count": 30,
   "metadata": {
    "collapsed": true
   },
   "outputs": [],
   "source": [
    "def f(x):\n",
    "    value=2.0-x+3*math.sin(x)\n",
    "    return value"
   ]
  },
  {
   "cell_type": "code",
   "execution_count": 37,
   "metadata": {
    "collapsed": true
   },
   "outputs": [],
   "source": [
    "Tol=1e-8\n",
    "error=1.0\n",
    "p_prev1=5.0\n",
    "p_prev2=0.0\n",
    "Nmax=1000\n",
    "iteration=1"
   ]
  },
  {
   "cell_type": "code",
   "execution_count": 40,
   "metadata": {},
   "outputs": [
    {
     "name": "stdout",
     "output_type": "stream",
     "text": [
      "p_n=2.6855271480464618    error=0.6357303507588103     f(x)=0.6357303507588103  \n",
      "No se pudo hallar la raíz\n"
     ]
    }
   ],
   "source": [
    "if f(p_prev1)*f(p_prev2)>0:\n",
    "    print(\"No concluyente.\")\n",
    "    \n",
    "else:\n",
    "    \n",
    "    while error>Tol:\n",
    "    \n",
    "        p=p_prev1-((p_prev1-p_prev2)*f(p_prev1))/(f(p_prev1)-f(p_prev2))\n",
    "        error=abs(f(p))\n",
    "        \n",
    "        if f(p)*f(p_prev1)<0:\n",
    "            p_prev2=p_prev1\n",
    "            p_prev1=p\n",
    "        \n",
    "        if f(p)*f(p_prev1)<0:\n",
    "            p_prev1=p_prev2\n",
    "            p_prev2=p\n",
    "    \n",
    "        \n",
    "    \n",
    "        print(\"p_n=%.16f    error=%.16f     f(x)=%.16f  \" %(p,error,f(p))) \n",
    "    \n",
    "        iteration=iteration+1\n",
    "    \n",
    "        if iteration>Nmax:\n",
    "            print(\"No se pudo hallar la raíz\")\n",
    "            break\n",
    "    \n",
    "    \n",
    "    \n",
    "    \n",
    "    \n",
    "    "
   ]
  },
  {
   "cell_type": "code",
   "execution_count": null,
   "metadata": {
    "collapsed": true
   },
   "outputs": [],
   "source": []
  }
 ],
 "metadata": {
  "kernelspec": {
   "display_name": "Python 3",
   "language": "python",
   "name": "python3"
  },
  "language_info": {
   "codemirror_mode": {
    "name": "ipython",
    "version": 3
   },
   "file_extension": ".py",
   "mimetype": "text/x-python",
   "name": "python",
   "nbconvert_exporter": "python",
   "pygments_lexer": "ipython3",
   "version": "3.6.3"
  }
 },
 "nbformat": 4,
 "nbformat_minor": 2
}
