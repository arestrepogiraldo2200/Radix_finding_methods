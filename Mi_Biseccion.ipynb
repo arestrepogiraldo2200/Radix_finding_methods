{
 "cells": [
  {
   "cell_type": "markdown",
   "metadata": {},
   "source": [
    "Hallar la raíz de $f(x)=x²-5$ en el rayo positivo del eje x."
   ]
  },
  {
   "cell_type": "code",
   "execution_count": 1,
   "metadata": {},
   "outputs": [],
   "source": [
    "import math\n",
    "import numpy"
   ]
  },
  {
   "cell_type": "code",
   "execution_count": 2,
   "metadata": {},
   "outputs": [],
   "source": [
    "def func(x):\n",
    "    value=x**2-5.0\n",
    "    return value   \n",
    "\n",
    "def sign(x):\n",
    "    if x<0:\n",
    "        return -1\n",
    "    if x>0:\n",
    "        return 1\n",
    "    if x==0:\n",
    "        return 0"
   ]
  },
  {
   "cell_type": "code",
   "execution_count": 39,
   "metadata": {},
   "outputs": [
    {
     "name": "stdout",
     "output_type": "stream",
     "text": [
      "La raíz es: 2.2360679786652327\n",
      "La función evaluada en la raíz es: 0.0000000052120193\n"
     ]
    }
   ],
   "source": [
    "#Valores extremos\n",
    "x1=0.0\n",
    "x2=5.0\n",
    "\n",
    "#Parámetros\n",
    "Tol=0.00000001\n",
    "error=1.0\n",
    "Nmax=2000\n",
    "iteration=0\n",
    "\n",
    "#Comprobando una de las hipótesis del procedimiento\n",
    "a=func(x1)*func(x2)\n",
    "\n",
    "if a>0:\n",
    "    print(\"Método no concluyente.\")\n",
    "    \n",
    "if a<0:\n",
    "    while error>Tol:\n",
    "        \n",
    "        if iteration>Nmax:\n",
    "            print(\"No se pudo hallar la raíz en %d iteraciones.\" %(Nmax))\n",
    "            break\n",
    "            \n",
    "        else:\n",
    "            \n",
    "            \n",
    "            #Tomando el punto medio del intervalo [x1,x2]\n",
    "            inter=abs(x2-x1)          \n",
    "            mid=x1+(inter*0.5)\n",
    "        \n",
    "            #print((\"1)%f        2)%f      3)%f    4)%d\")%(x1,  mid, x2 , iteration))\n",
    "        \n",
    "            #Reemplazando los extremos según el caso\n",
    "            if sign(func(mid))==sign(func(x2)):\n",
    "                x2=mid\n",
    "                \n",
    "            if sign(func(mid))==sign(func(x1)):\n",
    "                x1=mid\n",
    "         \n",
    "            #Determinando el error\n",
    "            error=abs(func(mid))\n",
    "            \n",
    "            #Cambiando el número de la iteración\n",
    "            iteration=iteration+1\n",
    "        \n",
    "    \n",
    "    #Resultado\n",
    "    print(\"La raíz es: %.16f\"%(mid))\n",
    "    print(\"La función evaluada en la raíz es: %.16f\" %(func(mid)))\n",
    "                \n",
    "if a==0:\n",
    "    print(\"Uno de los extrmos es una raíz.\")\n",
    "        \n",
    "    \n"
   ]
  },
  {
   "cell_type": "code",
   "execution_count": null,
   "metadata": {},
   "outputs": [],
   "source": []
  }
 ],
 "metadata": {
  "kernelspec": {
   "display_name": "Python 3",
   "language": "python",
   "name": "python3"
  },
  "language_info": {
   "codemirror_mode": {
    "name": "ipython",
    "version": 3
   },
   "file_extension": ".py",
   "mimetype": "text/x-python",
   "name": "python",
   "nbconvert_exporter": "python",
   "pygments_lexer": "ipython3",
   "version": "3.6.5"
  }
 },
 "nbformat": 4,
 "nbformat_minor": 2
}
