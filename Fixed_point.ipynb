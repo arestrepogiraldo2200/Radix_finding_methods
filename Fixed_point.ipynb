{
 "cells": [
  {
   "cell_type": "markdown",
   "metadata": {},
   "source": [
    "# Fixed point Method"
   ]
  },
  {
   "cell_type": "code",
   "execution_count": 19,
   "metadata": {},
   "outputs": [],
   "source": [
    "import math\n",
    "import numpy as np\n",
    "import matplotlib.pyplot as plt"
   ]
  },
  {
   "cell_type": "code",
   "execution_count": 20,
   "metadata": {},
   "outputs": [],
   "source": [
    "#Función original\n",
    "def func(x):\n",
    "    value=math.cos(x)-x\n",
    "    return value"
   ]
  },
  {
   "cell_type": "code",
   "execution_count": 21,
   "metadata": {},
   "outputs": [],
   "source": [
    "#Función g(x)=x deducida a partir de f(x)=0\n",
    "def g(x):\n",
    "    g=math.cos(x)\n",
    "    return g\n"
   ]
  },
  {
   "cell_type": "code",
   "execution_count": 22,
   "metadata": {},
   "outputs": [],
   "source": [
    "def dgdx(x):\n",
    "    value=-math.sin(x)\n",
    "    return value\n",
    "# -1<= -sin(x) <=1 para x en (-pi/2,pi/2)"
   ]
  },
  {
   "cell_type": "code",
   "execution_count": 33,
   "metadata": {},
   "outputs": [
    {
     "name": "stdout",
     "output_type": "stream",
     "text": [
      "X1=0.540302  Error=0.4596976941318602\n",
      "X2=0.857553  Error=0.3172509099782537\n",
      "X3=0.654290  Error=0.2032634253486143\n",
      "X4=0.793480  Error=0.1391905682447865\n",
      "X5=0.701369  Error=0.0921115851198091\n",
      "X6=0.763960  Error=0.0625909092778977\n",
      "X7=0.722102  Error=0.0418572578739465\n",
      "X8=0.750418  Error=0.0283153367370528\n",
      "X9=0.731404  Error=0.0190137193412507\n",
      "X10=0.744237  Error=0.0128333124780471\n",
      "X11=0.735605  Error=0.0086326144642095\n",
      "X12=0.741425  Error=0.0058203461737618\n",
      "X13=0.737507  Error=0.0039181960968664\n",
      "X14=0.740147  Error=0.0026404450546329\n",
      "X15=0.738369  Error=0.0017781314455525\n",
      "X16=0.739567  Error=0.0011979980899329\n",
      "X17=0.738760  Error=0.0008068823380448\n",
      "X18=0.739304  Error=0.0005435725226945\n",
      "X19=0.738938  Error=0.0003661356815614\n",
      "X20=0.739184  Error=0.0002466430561492\n",
      "X21=0.739018  Error=0.0001661373440814\n",
      "X22=0.739130  Error=0.0001119141022589\n",
      "X23=0.739055  Error=0.0000753857827537\n",
      "X24=0.739106  Error=0.0000507811796189\n",
      "X25=0.739071  Error=0.0000342066275913\n",
      "X26=0.739094  Error=0.0000230420801464\n",
      "X27=0.739079  Error=0.0000155213840992\n",
      "X28=0.739089  Error=0.0000104554084006\n",
      "X29=0.739082  Error=0.0000070428809903\n",
      "X30=0.739087  Error=0.0000047441729298\n",
      "X31=0.739084  Error=0.0000031957303320\n",
      "X32=0.739086  Error=0.0000021526831298\n",
      "X33=0.739085  Error=0.0000014500729173\n",
      "X34=0.739086  Error=0.0000009767867118\n",
      "X35=0.739085  Error=0.0000006579752103\n",
      "X36=0.739085  Error=0.0000004432200478\n",
      "X37=0.739085  Error=0.0000002985583416\n",
      "X38=0.739085  Error=0.0000002011124968\n",
      "X39=0.739085  Error=0.0000001354717941\n",
      "X40=0.739085  Error=0.0000000912554314\n",
      "X41=0.739085  Error=0.0000000614707557\n",
      "X42=0.739085  Error=0.0000000414074407\n",
      "X43=0.739085  Error=0.0000000278925500\n",
      "X44=0.739085  Error=0.0000000187887573\n",
      "X45=0.739085  Error=0.0000000126563329\n",
      "X46=0.739085  Error=0.0000000085254580\n",
      "X47=0.739085  Error=0.0000000057428511\n",
      "X48=0.739085  Error=0.0000000038684537\n",
      "X49=0.739085  Error=0.0000000026058370\n",
      "X50=0.739085  Error=0.0000000017553231\n",
      "X51=0.739085  Error=0.0000000011824067\n",
      "X52=0.739085  Error=0.0000000007964834\n",
      "X53=0.739085  Error=0.0000000005365208\n",
      "X54=0.739085  Error=0.0000000003614069\n",
      "X55=0.739085  Error=0.0000000002434480\n",
      "X56=0.739085  Error=0.0000000001639895\n",
      "X57=0.739085  Error=0.0000000001104653\n",
      "X58=0.739085  Error=0.0000000000744108\n",
      "X59=0.739085  Error=0.0000000000501240\n",
      "X60=0.739085  Error=0.0000000000337641\n",
      "X61=0.739085  Error=0.0000000000227439\n",
      "X62=0.739085  Error=0.0000000000153206\n",
      "X63=0.739085  Error=0.0000000000103202\n",
      "X64=0.739085  Error=0.0000000000069518\n",
      "X65=0.739085  Error=0.0000000000046828\n",
      "X66=0.739085  Error=0.0000000000031544\n",
      "X67=0.739085  Error=0.0000000000021247\n",
      "X68=0.739085  Error=0.0000000000014312\n",
      "X69=0.739085  Error=0.0000000000009640\n",
      "X70=0.739085  Error=0.0000000000006494\n",
      "X71=0.739085  Error=0.0000000000004374\n",
      "X72=0.739085  Error=0.0000000000002947\n",
      "X73=0.739085  Error=0.0000000000001985\n",
      "X74=0.739085  Error=0.0000000000001338\n",
      "X75=0.739085  Error=0.0000000000000902\n",
      "X76=0.739085  Error=0.0000000000000607\n",
      "X77=0.739085  Error=0.0000000000000410\n",
      "X78=0.739085  Error=0.0000000000000276\n",
      "X79=0.739085  Error=0.0000000000000187\n",
      "X80=0.739085  Error=0.0000000000000125\n",
      "X81=0.739085  Error=0.0000000000000084\n",
      "X82=0.739085  Error=0.0000000000000057\n",
      "X83=0.739085  Error=0.0000000000000038\n",
      "X84=0.739085  Error=0.0000000000000026\n",
      "X85=0.739085  Error=0.0000000000000018\n",
      "X86=0.739085  Error=0.0000000000000012\n",
      "X87=0.739085  Error=0.0000000000000008\n",
      "X88=0.739085  Error=0.0000000000000006\n",
      "X89=0.739085  Error=0.0000000000000004\n",
      "X90=0.739085  Error=0.0000000000000003\n",
      "X91=0.739085  Error=0.0000000000000002\n",
      "X92=0.739085  Error=0.0000000000000001\n",
      "X93=0.739085  Error=0.0000000000000000\n",
      "La raíz es 0.739085\n",
      "La función evaluada en este valor es f(X)=0.000142\n"
     ]
    }
   ],
   "source": [
    "#Parámetros\n",
    "Tol=1.0e-19\n",
    "error=1.0\n",
    "iteration=0\n",
    "Nmax=1000\n",
    "i=0\n",
    "\n",
    "#Valor inicial en (-pi/2,pi/2)\n",
    "Xo=1.0\n",
    "\n",
    "while error>Tol:\n",
    "    error=abs(g(Xo)-Xo)\n",
    "    Xo=g(Xo)\n",
    "    i=i+1\n",
    "    print(\"X%d=%f  Error=%.16f\" %(i,Xo,error))\n",
    "    iteration=iteration+1\n",
    "    #print(iteration)\n",
    "    \n",
    "    if iteration>Nmax:\n",
    "        print(\"No se pudo calcular la raíz en %d iteraciones.\"%Nmax)\n",
    "        break\n",
    "        \n",
    "print(\"La raíz es %f\"%Xo)\n",
    "print(\"La función evaluada en este valor es f(X)=%f\"%func(0.739))"
   ]
  },
  {
   "cell_type": "code",
   "execution_count": null,
   "metadata": {},
   "outputs": [],
   "source": []
  }
 ],
 "metadata": {
  "kernelspec": {
   "display_name": "Python 3",
   "language": "python",
   "name": "python3"
  },
  "language_info": {
   "codemirror_mode": {
    "name": "ipython",
    "version": 3
   },
   "file_extension": ".py",
   "mimetype": "text/x-python",
   "name": "python",
   "nbconvert_exporter": "python",
   "pygments_lexer": "ipython3",
   "version": "3.6.5"
  }
 },
 "nbformat": 4,
 "nbformat_minor": 2
}
