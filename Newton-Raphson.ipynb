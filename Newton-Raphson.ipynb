{
 "cells": [
  {
   "cell_type": "markdown",
   "metadata": {},
   "source": [
    "Hallar la raíz de $f(x)=cos(x)-x$ usando el método de Newton-Raphson.    "
   ]
  },
  {
   "cell_type": "code",
   "execution_count": 35,
   "metadata": {},
   "outputs": [],
   "source": [
    "import numpy as np\n",
    "import math"
   ]
  },
  {
   "cell_type": "code",
   "execution_count": 36,
   "metadata": {},
   "outputs": [],
   "source": [
    "#Aquí se define la función a la cual se buscan los ceros\n",
    "def func(x):\n",
    "    value=math.cos(x)-x\n",
    "    return value   "
   ]
  },
  {
   "cell_type": "code",
   "execution_count": 37,
   "metadata": {},
   "outputs": [],
   "source": [
    "##Aquí se define la derivada de la función a la cual se buscan los ceros\n",
    "def dydx(x):\n",
    "    value=-math.sin(x)-1.0\n",
    "    return value"
   ]
  },
  {
   "cell_type": "code",
   "execution_count": 57,
   "metadata": {},
   "outputs": [],
   "source": [
    "#Parámetros\n",
    "Tol=0.00001\n",
    "Nmax=1000\n",
    "error=1.0\n",
    "iteration=1"
   ]
  },
  {
   "cell_type": "code",
   "execution_count": 58,
   "metadata": {
    "scrolled": false
   },
   "outputs": [
    {
     "name": "stdout",
     "output_type": "stream",
     "text": [
      "X1=-109.8205607048479777      Error=108.8296839085093382      f(x)=108.8296839085093382\n",
      "X2=15.9607775610820681      Error=16.9289898794384257      f(x)=-16.9289898794384257\n",
      "X3=-6.6151154617295376      Error=7.5605305902824282      f(x)=7.5605305902824282\n",
      "X4=4.6000997047291037      Error=4.7121531554145362      f(x)=-4.7121531554145362\n",
      "X5=-743.6197251930475431      Error=743.0281085215041230      f(x)=743.0281085215041230\n",
      "X6=3090.7583906372142337      Error=3089.9158322043444969      f(x)=-3089.9158322043444969\n",
      "X7=-3606.1400727091681802      Error=3607.0578723786452429      f(x)=3607.0578723786452429\n",
      "X8=-1024.2182226354320846      Error=1025.2164816043662086      f(x)=1025.2164816043662086\n",
      "X9=65.2592470776255595      Error=66.0148654568188960      f(x)=-66.0148654568188960\n",
      "X10=25.3714027324184599      Error=24.3997474636864844      f(x)=-24.3997474636864844\n",
      "X11=5.6369297159794698      Error=4.8385854382011093      f(x)=-4.8385854382011093\n",
      "X12=-6.5264723343639304      Error=7.4970237281990766      f(x)=7.4970237281990766\n",
      "X13=3.3496519726974086      Error=4.3280855995619394      f(x)=-4.3280855995619394\n",
      "X14=-2.1051947424657396      Error=1.5958713193887430      f(x)=1.5958713193887430\n",
      "X15=9.3409121107299420      Error=10.3373974310891690      f(x)=-10.3373974310891690\n",
      "X16=-0.1974775655792413      Error=1.1780421553263052      f(x)=1.1780421553263052\n",
      "X17=1.2681072760549799      Error=0.9700191926484540      f(x)=-0.9700191926484540\n",
      "X18=0.7718165872112590      Error=0.0551716918249556      f(x)=-0.0551716918249556\n",
      "X19=0.7393136715620769      Error=0.0003825038263141      f(x)=-0.0003825038263141\n",
      "X20=0.7390851447450119      Error=0.0000000192964977      f(x)=-0.0000000192964977\n",
      "La raíz es: 0.7390851447450119\n",
      "La función evaluada en el valor calculado es: -0.0000000192964977\n"
     ]
    }
   ],
   "source": [
    "#Valor inicial de X\n",
    "xo=5.0\n",
    "\n",
    "#Se comprueba una de las hipótesis del méodo\n",
    "if dydx(xo)==0:\n",
    "    print(\"Método no concluyente.\")\n",
    "    \n",
    "#Procedimiento\n",
    "else:\n",
    "    while error>Tol: \n",
    "        #Valores de X\n",
    "        x=xo-func(xo)/dydx(xo)\n",
    "        #Se toma el error como la lejanía de la función evaluada del cero\n",
    "        error=abs(func(x))\n",
    "        #Se imprimen los valores calculados\n",
    "        print(\"X%d=%.16f      Error=%.16f      f(x)=%.16f\" %(iteration,x,error,func(x)))\n",
    "        #Se reutiliza la variable\n",
    "        xo=x\n",
    "        #Se actualiza el número de la iteración\n",
    "        iteration=iteration+1.0\n",
    "        \n",
    "        #Se establece el procedimiento al alcanzar el límite de iteraciones\n",
    "        if iteration>Nmax:\n",
    "            print(\"No se pudo hallar la raíz en %d iteraciones.\" %(Nmax))\n",
    "            break\n",
    "    #Resultado final\n",
    "    print(\"La raíz es: %.16f\" %(x))\n",
    "    print(\"La función evaluada en el valor calculado es: %.16f\" %(func(x)))\n",
    "\n",
    "\n",
    "        \n",
    "    \n",
    "    \n",
    "    "
   ]
  },
  {
   "cell_type": "code",
   "execution_count": null,
   "metadata": {},
   "outputs": [],
   "source": []
  }
 ],
 "metadata": {
  "kernelspec": {
   "display_name": "Python 3",
   "language": "python",
   "name": "python3"
  },
  "language_info": {
   "codemirror_mode": {
    "name": "ipython",
    "version": 3
   },
   "file_extension": ".py",
   "mimetype": "text/x-python",
   "name": "python",
   "nbconvert_exporter": "python",
   "pygments_lexer": "ipython3",
   "version": "3.6.5"
  }
 },
 "nbformat": 4,
 "nbformat_minor": 2
}
