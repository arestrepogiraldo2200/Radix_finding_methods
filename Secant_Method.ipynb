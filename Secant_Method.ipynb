{
 "cells": [
  {
   "cell_type": "markdown",
   "metadata": {},
   "source": [
    "\n",
    "Hallar la raíz de $f(x)=cos(x)-x$ usando el método de la secante."
   ]
  },
  {
   "cell_type": "code",
   "execution_count": 2,
   "metadata": {
    "collapsed": true
   },
   "outputs": [],
   "source": [
    "import numpy as np\n",
    "import math"
   ]
  },
  {
   "cell_type": "code",
   "execution_count": 3,
   "metadata": {
    "collapsed": true
   },
   "outputs": [],
   "source": [
    "#Aquí se define la función a la cual se buscan los ceros\n",
    "def func(x):\n",
    "    value=math.cos(x)-x\n",
    "    return value"
   ]
  },
  {
   "cell_type": "code",
   "execution_count": 23,
   "metadata": {
    "collapsed": true
   },
   "outputs": [],
   "source": [
    "#Parámetros\n",
    "Tol=1e-16\n",
    "Nmax=1000\n",
    "error=1.0\n",
    "iteration=1"
   ]
  },
  {
   "cell_type": "code",
   "execution_count": 24,
   "metadata": {},
   "outputs": [
    {
     "name": "stdout",
     "output_type": "stream",
     "text": [
      "X1=0.8746858849532807      Error=0.2334479614538792      f(x)=-0.2334479614538792\n",
      "X2=0.7091388629985479      Error=0.0497840499173712      f(x)=0.0497840499173712\n",
      "X3=0.7382372730432507      Error=0.0014187232624535      f(x)=0.0014187232624535\n",
      "X4=0.7390908306243951      Error=0.0000095352646254      f(x)=-0.0000095352646254\n",
      "X5=0.7390851321480654      Error=0.0000000017859034      f(x)=0.0000000017859034\n",
      "X6=0.7390851332151592      Error=0.0000000000000023      f(x)=0.0000000000000023\n",
      "X7=0.7390851332151607      Error=0.0000000000000000      f(x)=0.0000000000000000\n",
      "La raíz es: 0.7390851332151607\n",
      "La función evaluada en el valor calculado es: 0.0000000000000000\n"
     ]
    }
   ],
   "source": [
    "#Valor inicial de X\n",
    "x0=5.0\n",
    "x1=0.0\n",
    "\n",
    "#Procedimiento\n",
    "    \n",
    "while error > Tol: \n",
    "    #Valores de X\n",
    "    x=x1-(func(x1)*(x1-x0))/(func(x1)-func(x0))\n",
    "\n",
    "    error=abs(func(x))\n",
    "              \n",
    "    x0=x1\n",
    "    x1=x\n",
    "              \n",
    "    #Se imprimen los valores calculados\n",
    "    print(\"X%d=%.16f      Error=%.16f      f(x)=%.16f\" %(iteration,x,error,func(x)))\n",
    "    #Se reutiliza la variable\n",
    "        \n",
    "        \n",
    "        \n",
    "        \n",
    "    #Se actualiza el número de la iteración\n",
    "    iteration=iteration+1.0\n",
    "        \n",
    "    #Se establece el procedimiento al alcanzar el límite de iteraciones\n",
    "    if iteration>Nmax:\n",
    "        print(\"No se pudo hallar la raíz en %d iteraciones.\" %(Nmax))\n",
    "        break\n",
    "#Resultado final\n",
    "print(\"La raíz es: %.16f\" %(x))\n",
    "print(\"La función evaluada en el valor calculado es: %.16f\" %(func(x)))"
   ]
  },
  {
   "cell_type": "code",
   "execution_count": null,
   "metadata": {
    "collapsed": true
   },
   "outputs": [],
   "source": []
  }
 ],
 "metadata": {
  "kernelspec": {
   "display_name": "Python 3",
   "language": "python",
   "name": "python3"
  },
  "language_info": {
   "codemirror_mode": {
    "name": "ipython",
    "version": 3
   },
   "file_extension": ".py",
   "mimetype": "text/x-python",
   "name": "python",
   "nbconvert_exporter": "python",
   "pygments_lexer": "ipython3",
   "version": "3.6.3"
  }
 },
 "nbformat": 4,
 "nbformat_minor": 2
}
